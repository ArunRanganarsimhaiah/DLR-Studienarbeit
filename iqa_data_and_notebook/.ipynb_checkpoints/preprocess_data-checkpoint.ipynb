{
 "cells": [
  {
   "cell_type": "code",
   "execution_count": 1,
   "metadata": {},
   "outputs": [
    {
     "ename": "ModuleNotFoundError",
     "evalue": "No module named 'iqs_lib'",
     "output_type": "error",
     "traceback": [
      "\u001b[1;31m---------------------------------------------------------------------------\u001b[0m",
      "\u001b[1;31mModuleNotFoundError\u001b[0m                       Traceback (most recent call last)",
      "\u001b[1;32m<ipython-input-1-30073a0bda03>\u001b[0m in \u001b[0;36m<module>\u001b[1;34m\u001b[0m\n\u001b[0;32m      1\u001b[0m \u001b[1;32mimport\u001b[0m \u001b[0mmatplotlib\u001b[0m\u001b[1;33m.\u001b[0m\u001b[0mpyplot\u001b[0m \u001b[1;32mas\u001b[0m \u001b[0mplt\u001b[0m\u001b[1;33m\u001b[0m\u001b[1;33m\u001b[0m\u001b[0m\n\u001b[0;32m      2\u001b[0m \u001b[1;32mimport\u001b[0m \u001b[0mnumpy\u001b[0m \u001b[1;32mas\u001b[0m \u001b[0mnp\u001b[0m\u001b[1;33m\u001b[0m\u001b[1;33m\u001b[0m\u001b[0m\n\u001b[1;32m----> 3\u001b[1;33m \u001b[1;32mfrom\u001b[0m \u001b[0miqs_lib\u001b[0m \u001b[1;32mimport\u001b[0m \u001b[1;33m*\u001b[0m\u001b[1;33m\u001b[0m\u001b[1;33m\u001b[0m\u001b[0m\n\u001b[0m",
      "\u001b[1;31mModuleNotFoundError\u001b[0m: No module named 'iqs_lib'"
     ]
    }
   ],
   "source": [
    "import matplotlib.pyplot as plt\n",
    "import numpy as np\n",
    "from iqs_lib import *"
   ]
  },
  {
   "cell_type": "code",
   "execution_count": null,
   "metadata": {
    "pycharm": {
     "name": "#%%\n"
    }
   },
   "outputs": [],
   "source": [
    "# create .tfrecord dataset from two files with labeled data\n",
    "ds = tf.data.TFRecordDataset(['./data/iqa_labeled_20180212.tfrecord', './data/iqa_labeled_20180216.tfrecord'])\n",
    "ds = ds.map(preprocess)"
   ]
  },
  {
   "cell_type": "code",
   "execution_count": null,
   "metadata": {
    "pycharm": {
     "name": "#%%\n"
    }
   },
   "outputs": [],
   "source": [
    "# create dataframe from .csv files with bounding box information\n",
    "df = pd.read_csv('./data/iqa_labeled_20180212.csv')\n",
    "df = df.append(pd.read_csv('./data/iqa_labeled_20180216.csv'))\n",
    "df.head()"
   ]
  },
  {
   "cell_type": "code",
   "execution_count": null,
   "metadata": {
    "pycharm": {
     "name": "#%%\n"
    }
   },
   "outputs": [],
   "source": [
    "print(categories)\n",
    "df['label'] = df['class'].map(lambda x: categories[x])\n",
    "df.head()"
   ]
  },
  {
   "cell_type": "code",
   "execution_count": null,
   "metadata": {
    "pycharm": {
     "name": "#%%\n"
    }
   },
   "outputs": [],
   "source": [
    "box_cols_abs = ['ymin', 'xmin', 'ymax', 'xmax']\n",
    "box_cols_rel = ['ymin_rel', 'xmin_rel', 'ymax_rel', 'xmax_rel']\n",
    "colors = np.array([[0., 1., 0.]])\n",
    "for item in ds.take(6):\n",
    "    img = item[0]\n",
    "    filename = item[1].numpy().decode('utf-8')\n",
    "    idx = df['filename'] == filename\n",
    "    if any(idx):\n",
    "        boxes_rel = df.loc[idx, box_cols_rel].to_numpy()\n",
    "        img_boxes = tf.image.draw_bounding_boxes(img[tf.newaxis], np.expand_dims(boxes_rel, axis=0), colors)\n",
    "        plt.figure(figsize=(20, 10))\n",
    "        plt.imshow(np.squeeze(img_boxes))\n",
    "        plt.axis(False)\n",
    "        plt.show()\n",
    "\n",
    "        boxes_abs = df.loc[idx, box_cols_abs].to_numpy()\n",
    "        classes = df.loc[idx, 'class'].to_numpy()\n",
    "        for i in range(boxes_abs.shape[0]):\n",
    "            plt.figure()\n",
    "            img_crop = tf.image.crop_to_bounding_box(img, boxes_abs[i, 0], boxes_abs[i, 1], boxes_abs[i, 2] - boxes_abs[i, 0], boxes_abs[i, 3] - boxes_abs[i, 1])\n",
    "            img_crop = tf.image.resize(img_crop, size=(128, 128))\n",
    "            plt.imshow(img_crop)\n",
    "            plt.axis(False)\n",
    "            plt.title(classes[i])\n",
    "            plt.show()\n",
    "    else:\n",
    "        plt.figure(figsize=(20, 10))\n",
    "        plt.imshow(np.squeeze(img))\n",
    "        plt.axis(False)\n",
    "        plt.show()\n",
    "\n",
    "        for i in range(3):\n",
    "            plt.figure()\n",
    "            max_dim = tf.cast(tf.reduce_min(tf.shape(img)[:2]), tf.int64)\n",
    "            crop_size = tf.random.uniform(shape=[2], minval=128, maxval=max_dim, dtype=tf.int64)\n",
    "            img_crop = tf.image.random_crop(img, size=(crop_size[0], crop_size[1], 3))\n",
    "            img_crop = tf.image.resize(img_crop, (128, 128))\n",
    "            plt.imshow(img_crop)\n",
    "            plt.axis(False)\n",
    "            plt.title('none')\n",
    "            plt.show()"
   ]
  },
  {
   "cell_type": "markdown",
   "metadata": {
    "pycharm": {
     "name": "#%% md\n"
    }
   },
   "source": [
    "### Work program for next week\n",
    "\n",
    "##### 1. Get familiar with this notebook and the dataset\n",
    "\n",
    "The data provided here consists of all available labeled images as well as a subset of the unlabeled images. Coordinates of bounding boxes and associated class labels can be found in the dataframe loaded from the two csv files.\n",
    "\n",
    "##### 2. Train a variational autoencoder and / or a gan\n",
    "\n",
    "Use 128 x 128 snippets for this. The above code shows how to extract snippets with and without errors from the dataset. I would recommend to create a new dataset containing only smaller snippets because loading the larger images from disk requires quite some time. Moreover, it would probably make sense to save the images in the new dataset in grayscale format (1 channel instead of 3).\n",
    "\n",
    "##### 3. Generate some synthetical images using your readily trained model\n",
    "\n",
    "### You do not need to finish this until Tuesday. Take your time and enjoy the weekend! :-)"
   ]
  }
 ],
 "metadata": {
  "kernelspec": {
   "display_name": "Python 3",
   "language": "python",
   "name": "python3"
  },
  "language_info": {
   "codemirror_mode": {
    "name": "ipython",
    "version": 3
   },
   "file_extension": ".py",
   "mimetype": "text/x-python",
   "name": "python",
   "nbconvert_exporter": "python",
   "pygments_lexer": "ipython3",
   "version": "3.8.5"
  }
 },
 "nbformat": 4,
 "nbformat_minor": 4
}
